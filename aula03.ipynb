{
  "nbformat": 4,
  "nbformat_minor": 0,
  "metadata": {
    "colab": {
      "provenance": [],
      "authorship_tag": "ABX9TyN9pFLVdjD1WEJ4Z/znWY+p",
      "include_colab_link": true
    },
    "kernelspec": {
      "name": "python3",
      "display_name": "Python 3"
    },
    "language_info": {
      "name": "python"
    }
  },
  "cells": [
    {
      "cell_type": "markdown",
      "metadata": {
        "id": "view-in-github",
        "colab_type": "text"
      },
      "source": [
        "<a href=\"https://colab.research.google.com/github/yuri-weasley/modelagemMatematica/blob/main/aula03.ipynb\" target=\"_parent\"><img src=\"https://colab.research.google.com/assets/colab-badge.svg\" alt=\"Open In Colab\"/></a>"
      ]
    },
    {
      "cell_type": "code",
      "execution_count": 2,
      "metadata": {
        "colab": {
          "base_uri": "https://localhost:8080/"
        },
        "id": "-hBGHxl74GQx",
        "outputId": "c84c7e1d-bb9d-4d91-d971-24d58a43d7ec"
      },
      "outputs": [
        {
          "output_type": "stream",
          "name": "stdout",
          "text": [
            "Integral: 3.23\n"
          ]
        }
      ],
      "source": [
        "# Integração numérica em Python (aula 03)\n",
        "# Emprego de modelos matemáticos para resolução de problemas clássicos em Engenharia por meio da integração numérica.\n",
        "\n",
        "# Implementação do Método dos Retângulos em Python\n",
        "\n",
        "import numpy as np\n",
        "import math\n",
        "f = lambda x: x**2\n",
        "a = 2; b = 3; N = 5\n",
        "x = np.linspace(a,b,N+1)\n",
        "y = f(x)\n",
        "dx = (b-a)/N\n",
        "x_medio = np.linspace(dx/2,b - dx/2,N)\n",
        "soma_retangulo = np.sum(f(x_medio) * dx)\n",
        "print(\"Integral:\",soma_retangulo)"
      ]
    },
    {
      "cell_type": "code",
      "source": [
        "# Implementação do Método dos Trapézios em Python\n",
        "\n",
        "import numpy as np\n",
        "import math\n",
        "f = lambda x: x**2\n",
        "a = 2; b = 3; N = 5\n",
        "x = np.linspace(a,b,N+1)\n",
        "y = f(x)\n",
        "y_maior = y[1:]\n",
        "y_menor = y[:-1]\n",
        "dx = (b-a)/N\n",
        "soma_trapezio = (dx/2) * np.sum(y_maior + y_menor)\n",
        "print(\"Integral:\",soma_trapezio)"
      ],
      "metadata": {
        "colab": {
          "base_uri": "https://localhost:8080/"
        },
        "id": "8xkurhLR5_KP",
        "outputId": "4daac1ed-3d71-4e32-c398-91a11a1ca027"
      },
      "execution_count": 5,
      "outputs": [
        {
          "output_type": "stream",
          "name": "stdout",
          "text": [
            "Integral: 6.340000000000001\n"
          ]
        }
      ]
    },
    {
      "cell_type": "code",
      "source": [
        "# Implementação do Método de Simpson em Python\n",
        "\n",
        "import numpy as np\n",
        "import math\n",
        "f = lambda x: x**2\n",
        "a = 2; b = 3; N = 10\n",
        "x = np.linspace(a,b,N+1)\n",
        "y = f(x)\n",
        "dx = (b-a)/N\n",
        "soma_Simpson = dx/3 * np.sum(y[0:-1:2] + 4*y[1::2] + y[2::2])\n",
        "print(\"Integral:\",soma_Simpson)"
      ],
      "metadata": {
        "colab": {
          "base_uri": "https://localhost:8080/"
        },
        "id": "PNKAnNtQ9z4Y",
        "outputId": "390d758f-518b-4de8-c5e3-a7bfe873fc34"
      },
      "execution_count": 8,
      "outputs": [
        {
          "output_type": "stream",
          "name": "stdout",
          "text": [
            "Integral: 6.333333333333332\n"
          ]
        }
      ]
    },
    {
      "cell_type": "code",
      "source": [
        "# Implementação do Método de Romberg em Python\n",
        "\n",
        "import scipy as sp\n",
        "from scipy import integrate\n",
        "func = lambda x:sp.exp(-x)\n",
        "result = integrate.romberg(func, 1, 2, show=True)"
      ],
      "metadata": {
        "colab": {
          "base_uri": "https://localhost:8080/",
          "height": 176
        },
        "id": "v8Ak4tKI-Err",
        "outputId": "f0e98786-891b-4546-bba2-a1d1d910ac56"
      },
      "execution_count": 16,
      "outputs": [
        {
          "output_type": "error",
          "ename": "AttributeError",
          "evalue": "module 'scipy.integrate' has no attribute 'romberg'",
          "traceback": [
            "\u001b[0;31m---------------------------------------------------------------------------\u001b[0m",
            "\u001b[0;31mAttributeError\u001b[0m                            Traceback (most recent call last)",
            "\u001b[0;32m/tmp/ipython-input-16-2847995126.py\u001b[0m in \u001b[0;36m<cell line: 0>\u001b[0;34m()\u001b[0m\n\u001b[1;32m      4\u001b[0m \u001b[0;32mfrom\u001b[0m \u001b[0mscipy\u001b[0m \u001b[0;32mimport\u001b[0m \u001b[0mintegrate\u001b[0m\u001b[0;34m\u001b[0m\u001b[0;34m\u001b[0m\u001b[0m\n\u001b[1;32m      5\u001b[0m \u001b[0mfunc\u001b[0m \u001b[0;34m=\u001b[0m \u001b[0;32mlambda\u001b[0m \u001b[0mx\u001b[0m\u001b[0;34m:\u001b[0m\u001b[0msp\u001b[0m\u001b[0;34m.\u001b[0m\u001b[0mexp\u001b[0m\u001b[0;34m(\u001b[0m\u001b[0;34m-\u001b[0m\u001b[0mx\u001b[0m\u001b[0;34m)\u001b[0m\u001b[0;34m\u001b[0m\u001b[0;34m\u001b[0m\u001b[0m\n\u001b[0;32m----> 6\u001b[0;31m \u001b[0mresult\u001b[0m \u001b[0;34m=\u001b[0m \u001b[0mintegrate\u001b[0m\u001b[0;34m.\u001b[0m\u001b[0mromberg\u001b[0m\u001b[0;34m(\u001b[0m\u001b[0mfunc\u001b[0m\u001b[0;34m,\u001b[0m \u001b[0;36m1\u001b[0m\u001b[0;34m,\u001b[0m \u001b[0;36m2\u001b[0m\u001b[0;34m,\u001b[0m \u001b[0mshow\u001b[0m\u001b[0;34m=\u001b[0m\u001b[0;32mTrue\u001b[0m\u001b[0;34m)\u001b[0m\u001b[0;34m\u001b[0m\u001b[0;34m\u001b[0m\u001b[0m\n\u001b[0m",
            "\u001b[0;31mAttributeError\u001b[0m: module 'scipy.integrate' has no attribute 'romberg'"
          ]
        }
      ]
    },
    {
      "cell_type": "code",
      "source": [],
      "metadata": {
        "id": "wKEsXyr1-iiW"
      },
      "execution_count": null,
      "outputs": []
    },
    {
      "cell_type": "code",
      "source": [
        "import scipy as sp\n",
        "from scipy import integrate\n",
        "func = lambda x:sp.sin(x)\n",
        "result = integrate.romberg(func, 1, 2, show=True)"
      ],
      "metadata": {
        "colab": {
          "base_uri": "https://localhost:8080/",
          "height": 176
        },
        "id": "gdr5qJUl-74j",
        "outputId": "d92420a2-128b-4c88-d9d5-f7c11d5eed73"
      },
      "execution_count": 19,
      "outputs": [
        {
          "output_type": "error",
          "ename": "AttributeError",
          "evalue": "module 'scipy.integrate' has no attribute 'romberg'",
          "traceback": [
            "\u001b[0;31m---------------------------------------------------------------------------\u001b[0m",
            "\u001b[0;31mAttributeError\u001b[0m                            Traceback (most recent call last)",
            "\u001b[0;32m/tmp/ipython-input-19-2962343505.py\u001b[0m in \u001b[0;36m<cell line: 0>\u001b[0;34m()\u001b[0m\n\u001b[1;32m      2\u001b[0m \u001b[0;32mfrom\u001b[0m \u001b[0mscipy\u001b[0m \u001b[0;32mimport\u001b[0m \u001b[0mintegrate\u001b[0m\u001b[0;34m\u001b[0m\u001b[0;34m\u001b[0m\u001b[0m\n\u001b[1;32m      3\u001b[0m \u001b[0mfunc\u001b[0m \u001b[0;34m=\u001b[0m \u001b[0;32mlambda\u001b[0m \u001b[0mx\u001b[0m\u001b[0;34m:\u001b[0m\u001b[0msp\u001b[0m\u001b[0;34m.\u001b[0m\u001b[0msin\u001b[0m\u001b[0;34m(\u001b[0m\u001b[0mx\u001b[0m\u001b[0;34m)\u001b[0m\u001b[0;34m\u001b[0m\u001b[0;34m\u001b[0m\u001b[0m\n\u001b[0;32m----> 4\u001b[0;31m \u001b[0mresult\u001b[0m \u001b[0;34m=\u001b[0m \u001b[0mintegrate\u001b[0m\u001b[0;34m.\u001b[0m\u001b[0mromberg\u001b[0m\u001b[0;34m(\u001b[0m\u001b[0mfunc\u001b[0m\u001b[0;34m,\u001b[0m \u001b[0;36m1\u001b[0m\u001b[0;34m,\u001b[0m \u001b[0;36m2\u001b[0m\u001b[0;34m,\u001b[0m \u001b[0mshow\u001b[0m\u001b[0;34m=\u001b[0m\u001b[0;32mTrue\u001b[0m\u001b[0;34m)\u001b[0m\u001b[0;34m\u001b[0m\u001b[0;34m\u001b[0m\u001b[0m\n\u001b[0m",
            "\u001b[0;31mAttributeError\u001b[0m: module 'scipy.integrate' has no attribute 'romberg'"
          ]
        }
      ]
    }
  ]
}
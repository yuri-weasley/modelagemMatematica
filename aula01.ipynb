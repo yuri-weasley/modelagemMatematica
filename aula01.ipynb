{
  "nbformat": 4,
  "nbformat_minor": 0,
  "metadata": {
    "colab": {
      "provenance": [],
      "authorship_tag": "ABX9TyOmRoAlOjKh2olVUrdW44zo",
      "include_colab_link": true
    },
    "kernelspec": {
      "name": "python3",
      "display_name": "Python 3"
    },
    "language_info": {
      "name": "python"
    }
  },
  "cells": [
    {
      "cell_type": "markdown",
      "metadata": {
        "id": "view-in-github",
        "colab_type": "text"
      },
      "source": [
        "<a href=\"https://colab.research.google.com/github/yuri-weasley/modelagemMatematica/blob/main/aula01.ipynb\" target=\"_parent\"><img src=\"https://colab.research.google.com/assets/colab-badge.svg\" alt=\"Open In Colab\"/></a>"
      ]
    },
    {
      "cell_type": "code",
      "execution_count": null,
      "metadata": {
        "colab": {
          "base_uri": "https://localhost:8080/"
        },
        "id": "KYqMK-e2e5vu",
        "outputId": "4543bbcc-b998-4397-c764-9cb1d911d858"
      },
      "outputs": [
        {
          "output_type": "stream",
          "name": "stdout",
          "text": [
            "(2.5, 12.5)\n"
          ]
        }
      ],
      "source": [
        " # Aritmética computacional em Python (Aula 01)\n",
        " # Aritmérica Computacional, apresentação dos erros comuns na linguagem Python e métodos clássicos de obtenção de raízes de funções não lineares.\n",
        "\n",
        " # Programa para calcular a altura de um objeto em movimento vertical\n",
        " v0 = 5\t              # Velocidade inicial\n",
        " g = 10\t              # Aceleração da gravidade\n",
        " t = 0.5\t             # Tempo\n",
        " y = v0 * t - 0,5 * g * t ** 2\t    # Posição vertical\n",
        " print(y)"
      ]
    },
    {
      "cell_type": "code",
      "source": [
        "# Strings\n",
        "print('abc\\nd')"
      ],
      "metadata": {
        "colab": {
          "base_uri": "https://localhost:8080/"
        },
        "id": "RzDGuqHgfeBu",
        "outputId": "62765619-18f4-47b8-a5b1-726c403d4a80"
      },
      "execution_count": null,
      "outputs": [
        {
          "output_type": "stream",
          "name": "stdout",
          "text": [
            "abc\n",
            "d\n"
          ]
        }
      ]
    },
    {
      "cell_type": "code",
      "source": [
        "print('abc\\td')"
      ],
      "metadata": {
        "colab": {
          "base_uri": "https://localhost:8080/"
        },
        "id": "nv9NWwXUfu5d",
        "outputId": "7638d358-45c3-4cb5-f08c-f88814897720"
      },
      "execution_count": null,
      "outputs": [
        {
          "output_type": "stream",
          "name": "stdout",
          "text": [
            "abc\td\n"
          ]
        }
      ]
    },
    {
      "cell_type": "code",
      "source": [
        "palavra = 'abcd'\n",
        "palavra[0]"
      ],
      "metadata": {
        "colab": {
          "base_uri": "https://localhost:8080/",
          "height": 36
        },
        "id": "O-e2mMiBf5uB",
        "outputId": "a1301ce9-5c3f-4943-b276-cea8642f7550"
      },
      "execution_count": null,
      "outputs": [
        {
          "output_type": "execute_result",
          "data": {
            "text/plain": [
              "'a'"
            ],
            "application/vnd.google.colaboratory.intrinsic+json": {
              "type": "string"
            }
          },
          "metadata": {},
          "execution_count": 26
        }
      ]
    },
    {
      "cell_type": "code",
      "source": [
        "# Expressões booleanas\n",
        "a = 2                          # variável a recebe o valor 2 (int)\n",
        "b = 1.99                       # variável b recebe o valor 1.99 (float)\n",
        "c = '2'                        # variável c recebe o valor 2 em forma de um string\n",
        "print(a > b)                   # perceba que o valor de a é maior que o valor de b\n",
        "print(a == c)                  # note que c recebeu um string ('2') e a um int (2), logo não podem ser iguais\n",
        "print((a > b) and (a != c))    # os dois precisam ser verdadeiros para retornar true\n",
        "print((a > b) or (a == b))     # apenas um precisa ser verdadeiro para retornar true"
      ],
      "metadata": {
        "colab": {
          "base_uri": "https://localhost:8080/"
        },
        "id": "LCYyODhUniq0",
        "outputId": "29ce17d9-4c71-4bc3-a79c-6a02c37c0f98"
      },
      "execution_count": null,
      "outputs": [
        {
          "output_type": "stream",
          "name": "stdout",
          "text": [
            "True\n",
            "False\n",
            "True\n",
            "True\n"
          ]
        }
      ]
    },
    {
      "cell_type": "code",
      "source": [
        "# Operadores aritméticos\n",
        "s = 'Olá'\n",
        "t = 'para você'\n",
        "a = [1, 2, 3]\n",
        "print(3*s)          # Repetição\n",
        "\n",
        "print(3*a)         # Repetição\n",
        "print(a + [4, 5])  # Adicionando elementos\n",
        "print(s + t)"
      ],
      "metadata": {
        "colab": {
          "base_uri": "https://localhost:8080/"
        },
        "id": "JxwNWkELoOd9",
        "outputId": "f993b841-fa34-4b8f-8edf-0bb9aeb5d4c2"
      },
      "execution_count": null,
      "outputs": [
        {
          "output_type": "stream",
          "name": "stdout",
          "text": [
            "OláOláOlá\n",
            "[1, 2, 3, 1, 2, 3, 1, 2, 3]\n",
            "[1, 2, 3, 4, 5]\n",
            "Olápara você\n"
          ]
        }
      ]
    },
    {
      "cell_type": "code",
      "source": [
        "# Tuplas e listas\n",
        "dados = ('Gomes', 'Roberto', (31,10,73))\t       # Esta é uma tupla\n",
        "sobrenome, nome, data_de_nascimento = dados\t     # Descompactando a tupla\n",
        "print(nome)\n",
        "\n",
        "Ano_de_nascimento = data_de_nascimento [2]\n",
        "print(Ano_de_nascimento)\n",
        "\n",
        "nome_completo = dados [1] + '' + dados [0]\n",
        "print(nome_completo)\n",
        "\n",
        "print(dados [0: 2])"
      ],
      "metadata": {
        "colab": {
          "base_uri": "https://localhost:8080/"
        },
        "id": "VNGmAWIAopom",
        "outputId": "c03befbe-9a76-42bc-acbb-ef126d2a7b61"
      },
      "execution_count": null,
      "outputs": [
        {
          "output_type": "stream",
          "name": "stdout",
          "text": [
            "Roberto\n",
            "73\n",
            "RobertoGomes\n",
            "('Gomes', 'Roberto')\n"
          ]
        }
      ]
    },
    {
      "cell_type": "code",
      "source": [
        "# Tuplas e listas\n",
        "a = [1.0, 2.0, 3.0]\t    # Crie uma lista\n",
        "a.append (4.0)\t         # Anexar 4.0 à lista\n",
        "print(a)\n",
        "\n",
        "a.insert (0,0.0)\t       # Insira 0.0 na posição 0\n",
        "print(a)\n",
        "\n",
        "print(len (a))\t         # Determine o comprimento da lista\n",
        "\n",
        "a [2: 4] = [1.0, 1.0, 1.0]   # Modifica os elementos selecionados\n",
        "print(a)"
      ],
      "metadata": {
        "colab": {
          "base_uri": "https://localhost:8080/"
        },
        "id": "tqtOQZ44qLXU",
        "outputId": "cc3142d4-8398-438f-9c11-5b67be3422ff"
      },
      "execution_count": null,
      "outputs": [
        {
          "output_type": "stream",
          "name": "stdout",
          "text": [
            "[1.0, 2.0, 3.0, 4.0]\n",
            "[0.0, 1.0, 2.0, 3.0, 4.0]\n",
            "5\n",
            "[0.0, 1.0, 1.0, 1.0, 1.0, 4.0]\n"
          ]
        }
      ]
    },
    {
      "cell_type": "code",
      "source": [
        "# Se a for um objeto mutável, como uma lista, a instrução de atribuição b = a não resulta em um novo objeto b, mas, simplesmente, cria uma nova referência para a.\n",
        "# Portanto, quaisquer mudanças feitas para b serão refletidas em a. Veja, a seguir, um exemplo:\n",
        "a = [1.0, 2.0, 3.0]\n",
        "b = a\n",
        "b[0] = 5.0\n",
        "print(a)"
      ],
      "metadata": {
        "colab": {
          "base_uri": "https://localhost:8080/"
        },
        "id": "YnU_N8kHqqfd",
        "outputId": "8fa58ae6-3e92-4117-aec2-32e298cd3114"
      },
      "execution_count": null,
      "outputs": [
        {
          "output_type": "stream",
          "name": "stdout",
          "text": [
            "[5.0, 2.0, 3.0]\n"
          ]
        }
      ]
    },
    {
      "cell_type": "code",
      "source": [
        "# Para criar uma cópia independente de uma lista a, use a declaração c =a[:], conforme mostrado no exemplo a seguir:\n",
        "c = a[:]\n",
        "c[0] = 1.0\n",
        "print(a)"
      ],
      "metadata": {
        "colab": {
          "base_uri": "https://localhost:8080/"
        },
        "id": "jzbmk5snq8NQ",
        "outputId": "7918dad1-10c7-43ee-f6de-68893ffbf5e6"
      },
      "execution_count": null,
      "outputs": [
        {
          "output_type": "stream",
          "name": "stdout",
          "text": [
            "[5.0, 2.0, 3.0]\n"
          ]
        }
      ]
    },
    {
      "cell_type": "code",
      "source": [
        "# Importando bibliotecas\n",
        "import math\n",
        "v0 =300\n",
        "g=10\n",
        "theta=15\n",
        "A= (v0**2/g)*math.sin(2*theta*math.pi/180)\n",
        "print(A)"
      ],
      "metadata": {
        "colab": {
          "base_uri": "https://localhost:8080/"
        },
        "id": "4GA4nLTgrgfZ",
        "outputId": "3b343b93-4771-4dc0-c514-5836cbb07579"
      },
      "execution_count": null,
      "outputs": [
        {
          "output_type": "stream",
          "name": "stdout",
          "text": [
            "4499.999999999999\n"
          ]
        }
      ]
    },
    {
      "cell_type": "code",
      "source": [
        "from math import sin, pi\n",
        "v0 =300\n",
        "g=10\n",
        "theta=15\n",
        "A= (v0**2/g)*sin(2*theta*pi/180)\n",
        "print(A)"
      ],
      "metadata": {
        "colab": {
          "base_uri": "https://localhost:8080/"
        },
        "id": "61P1oz2nrxtj",
        "outputId": "808baf95-0677-4cde-9173-1e1d34345474"
      },
      "execution_count": null,
      "outputs": [
        {
          "output_type": "stream",
          "name": "stdout",
          "text": [
            "4499.999999999999\n"
          ]
        }
      ]
    },
    {
      "cell_type": "code",
      "source": [
        "from math import *\n",
        "v0 =300\n",
        "g=10\n",
        "theta=15\n",
        "A= (v0**2/g)*sin(2*theta*pi/180)\n",
        "print(A)"
      ],
      "metadata": {
        "colab": {
          "base_uri": "https://localhost:8080/"
        },
        "id": "5C3SSY6JsMM-",
        "outputId": "a0f7d903-b990-4776-dd4d-5dd6f81ad1f8"
      },
      "execution_count": null,
      "outputs": [
        {
          "output_type": "stream",
          "name": "stdout",
          "text": [
            "4499.999999999999\n"
          ]
        }
      ]
    },
    {
      "cell_type": "code",
      "source": [
        "# Importar um módulo com apelidos\n",
        "import math as m\n",
        "v0 =300\n",
        "g=10\n",
        "theta=15\n",
        "A= (v0**2/g)*m.sin(2*theta*m.pi/180)\n",
        "print(A)"
      ],
      "metadata": {
        "colab": {
          "base_uri": "https://localhost:8080/"
        },
        "id": "ho0tKBydsRFp",
        "outputId": "5b7e7f73-44e4-49a0-f447-f714d4c2bcb8"
      },
      "execution_count": null,
      "outputs": [
        {
          "output_type": "stream",
          "name": "stdout",
          "text": [
            "4499.999999999999\n"
          ]
        }
      ]
    },
    {
      "cell_type": "code",
      "source": [
        "from math import cos as c, sin as s\n",
        "print(c(0) + s(0))"
      ],
      "metadata": {
        "colab": {
          "base_uri": "https://localhost:8080/"
        },
        "id": "nXyiI1lRsezI",
        "outputId": "a0606355-d38b-4488-cc46-a93c084bbdde"
      },
      "execution_count": null,
      "outputs": [
        {
          "output_type": "stream",
          "name": "stdout",
          "text": [
            "1.0\n"
          ]
        }
      ]
    },
    {
      "cell_type": "code",
      "source": [
        "# Funções\n",
        "import math\n",
        "v0 =300\n",
        "g=10\n",
        "theta=15\n",
        "print(A)"
      ],
      "metadata": {
        "colab": {
          "base_uri": "https://localhost:8080/"
        },
        "id": "2ReRd_Bfskc0",
        "outputId": "a9671efc-15d7-4522-c206-d687a0656388"
      },
      "execution_count": null,
      "outputs": [
        {
          "output_type": "stream",
          "name": "stdout",
          "text": [
            "4499.999999999999\n"
          ]
        }
      ]
    },
    {
      "cell_type": "code",
      "source": [],
      "metadata": {
        "id": "sdQbSssDsodh"
      },
      "execution_count": null,
      "outputs": []
    },
    {
      "cell_type": "code",
      "source": [
        "# Condicionais (if)\n",
        "def sinal_numerico(a):\n",
        "    if a < 0.0:        # Se a menor que zero\n",
        "        sinal = 'negativo'\n",
        "    elif a > 0.0:      # Se a maior que zero\n",
        "        sinal = 'positivo'\n",
        "    else:              # Senão, ou seja, se a não é maior, nem menor que zero (a igual a zero)\n",
        "        sinal = 'zero'\n",
        "    return sinal\n",
        "\n",
        "a = 1.5  # Define a variable 'a' with a sample value\n",
        "print('a é ' + sinal_numerico(a))"
      ],
      "metadata": {
        "colab": {
          "base_uri": "https://localhost:8080/"
        },
        "id": "k4fyIPTgs6DL",
        "outputId": "8062d4ad-4edc-4561-9973-520218467acd"
      },
      "execution_count": null,
      "outputs": [
        {
          "output_type": "stream",
          "name": "stdout",
          "text": [
            "a é positivo\n"
          ]
        }
      ]
    },
    {
      "cell_type": "code",
      "source": [
        "# O comando for\n",
        "range(3) # parada indicada 3, como não foram indicados, o início será 0 e incremento será 1\n",
        "range(2,5,2) # início 2, parada 5 e incremento 2\n",
        "range(5,2,-2) # o incremento é negativo"
      ],
      "metadata": {
        "colab": {
          "base_uri": "https://localhost:8080/"
        },
        "id": "U7CyRn8wuSTX",
        "outputId": "ab5c07cb-1f51-4c3f-b041-cb9e9160e8a3"
      },
      "execution_count": null,
      "outputs": [
        {
          "output_type": "execute_result",
          "data": {
            "text/plain": [
              "range(5, 2, -2)"
            ]
          },
          "metadata": {},
          "execution_count": 41
        }
      ]
    },
    {
      "cell_type": "code",
      "source": [],
      "metadata": {
        "id": "nPbBxWiIuqpy"
      },
      "execution_count": null,
      "outputs": []
    },
    {
      "cell_type": "code",
      "source": [
        "for i in range(1,7): print(i)"
      ],
      "metadata": {
        "colab": {
          "base_uri": "https://localhost:8080/"
        },
        "id": "t6QW7Z-quyo5",
        "outputId": "18b17620-bce3-45d5-deca-09083b41b983"
      },
      "execution_count": null,
      "outputs": [
        {
          "output_type": "stream",
          "name": "stdout",
          "text": [
            "1\n",
            "2\n",
            "3\n",
            "4\n",
            "5\n",
            "6\n"
          ]
        }
      ]
    },
    {
      "cell_type": "code",
      "source": [],
      "metadata": {
        "id": "sHPqCgcNuz-9"
      },
      "execution_count": null,
      "outputs": []
    },
    {
      "cell_type": "code",
      "source": [
        "import math\n",
        "def Alcance(V0,theta,g):\n",
        "       return (v0**2/g)*math.sin(2*theta*math.pi/180)\n",
        "v0=300\n",
        "theta = [15,30,45,60,75]\n",
        "n=len(theta)\n",
        "A =[]\n",
        "for i in range(len(theta)):\n",
        "      A.append(Alcance(v0,theta[i],10))\n",
        "print(A)"
      ],
      "metadata": {
        "colab": {
          "base_uri": "https://localhost:8080/"
        },
        "id": "UQqX606hvHuz",
        "outputId": "282747a2-324f-4f92-cd9a-dc3a4de91e00"
      },
      "execution_count": null,
      "outputs": [
        {
          "output_type": "stream",
          "name": "stdout",
          "text": [
            "[4499.999999999999, 7794.228634059948, 9000.0, 7794.2286340599485, 4499.999999999999]\n"
          ]
        }
      ]
    },
    {
      "cell_type": "code",
      "source": [],
      "metadata": {
        "id": "xbgZf4cmvP0Y"
      },
      "execution_count": null,
      "outputs": []
    },
    {
      "cell_type": "code",
      "source": [
        "# Como fazer gráficos\n",
        "import numpy as np\n",
        "import matplotlib.pyplot as plt\n",
        "v0 = 5                  # Velocidade inicial\n",
        "g = 10                  # Aceleração da gravidade\n",
        "t = np.linspace(0,1,1001)# Tempo\n",
        "y = v0 * t - 0.5 * g * t ** 2    # Posição vertical\n",
        "plt.plot(t,y) # plotar o grafico yxt\n",
        "plt.xlabel('t (s)')    # eixo x com t(s)\n",
        "plt.ylabel('y (m)')    # eixo y como y(m)\n",
        "plt.show() #mostrar a figura"
      ],
      "metadata": {
        "colab": {
          "base_uri": "https://localhost:8080/",
          "height": 449
        },
        "id": "PUME0NwQvwF1",
        "outputId": "d80f5c66-0f5c-4fc8-e88e-dd16bd07f57e"
      },
      "execution_count": null,
      "outputs": [
        {
          "output_type": "display_data",
          "data": {
            "text/plain": [
              "<Figure size 640x480 with 1 Axes>"
            ],
            "image/png": "[encoded data removed]"
          },
          "metadata": {}
        }
      ]
    },
    {
      "cell_type": "code",
      "source": [
        "# Alguns cálculos em Python\n",
        "# Soma 1\n",
        "soma = 0.1 + 0.1 + 0.1\n",
        "print('soma = ' + str(soma))\n",
        "\n",
        "# Soma 2\n",
        "n = 30000\n",
        "lista1 = [0.5] * n\n",
        "print('sum(lista1) = ', sum(lista1))\n",
        "\n",
        "# Soma 3\n",
        "n = 30000\n",
        "lista2 = [0.1] * n\n",
        "print('sum(lista2) = ', sum(lista2))"
      ],
      "metadata": {
        "colab": {
          "base_uri": "https://localhost:8080/"
        },
        "id": "WzDMBflmxUWZ",
        "outputId": "bf86b360-b1cb-473a-8f10-39a2c593b0c2"
      },
      "execution_count": null,
      "outputs": [
        {
          "output_type": "stream",
          "name": "stdout",
          "text": [
            "soma = 0.30000000000000004\n",
            "sum(lista1) =  15000.0\n",
            "sum(lista2) =  2999.999999998367\n"
          ]
        }
      ]
    },
    {
      "cell_type": "code",
      "source": [
        "# Zero de equações lineares\n",
        "\n",
        "# Método da bisseção\n",
        "# O método da bisseção consiste na ideia de obter uma raiz, z, que esteja exatamente no ponto médio de um intervalo.\n",
        "# Esse intervalo é obtido pelo processo iterativo do método, onde parte da hipótese que existe, pelo menos, uma raiz contida nesse intervalo inicial.\n",
        "# Além disso, esse intervalo inicial tem como condição que os valores da função não linear, no intervalo entre os extremos, tenham os sinais opostos.\n",
        "\n",
        "import math\n",
        "from numpy import sign\n",
        "def bisection(f,x1,x2,switch=1,tol=1.0e-9):\n",
        "    f1 = f(x1)\n",
        "    if f1 == 0.0: return x1\n",
        "    f2 = f(x2)\n",
        "    if f2 == 0.0: return x2\n",
        "    if sign(f1) == sign(f2):\n",
        "        print('Raiz não se encontra no intervalo informado')\n",
        "        return None  # Added return None as suggested by the original code structure if root is not in the interval\n",
        "    n = int(math.ceil(math.log(abs(x2 - x1)/tol)/math.log(2.0)))\n",
        "    for i in range(n):\n",
        "        x3 = 0.5*(x1 + x2); f3 = f(x3)\n",
        "        if (switch == 1) and (abs(f3) > abs(f1)) and (abs(f3) > abs(f2)):\n",
        "            return None # Added return None as suggested by the original code structure\n",
        "        if f3 == 0.0: return x3\n",
        "        if sign(f2)!= sign(f3):\n",
        "            x1 = x3; f1 = f3\n",
        "        else:\n",
        "            x2 = x3; f2 = f3\n",
        "    return (x1 + x2)/2.0\n",
        "\n",
        "def f(x): return math.cos(x) + x\n",
        "\n",
        "x = bisection(f, -5.0, 4.0, tol = 1.0e-4)\n",
        "print('x =', '{:6.4f}'.format(x))"
      ],
      "metadata": {
        "colab": {
          "base_uri": "https://localhost:8080/"
        },
        "id": "9abk0HrOv5W7",
        "outputId": "f52fbdec-41d7-4162-b785-c2dcf926a769"
      },
      "execution_count": null,
      "outputs": [
        {
          "output_type": "stream",
          "name": "stdout",
          "text": [
            "x = -0.7391\n"
          ]
        }
      ]
    },
    {
      "cell_type": "code",
      "source": [
        "# Método do secante\n",
        "\n",
        "import sys\n",
        "def secant(f, x0, x1, eps):\n",
        "    f_x0 = f(x0)\n",
        "    f_x1 = f(x1)\n",
        "    numero_de_iteracoes = 0\n",
        "    while abs(f_x1) > eps and numero_de_iteracoes < 100:\n",
        "        try:\n",
        "            denominador = (f_x1 - f_x0)/(x1 - x0)\n",
        "            x = x1 - f_x1/denominador\n",
        "        except ZeroDivisionError:\n",
        "            print('Erro! - denominador zero para x = ', x)\n",
        "            sys.exit(1)# Sair do programa caso tenha erro\n",
        "        x0 = x1\n",
        "        x1 = x\n",
        "        f_x0 = f_x1\n",
        "        f_x1 = f(x1)\n",
        "        numero_de_iteracoes = numero_de_iteracoes + 1\n",
        "    if abs(f_x1) > eps:\n",
        "        numero_de_iteracoes = -1\n",
        "    return x, numero_de_iteracoes\n",
        "\n",
        "def f(x):\n",
        "    return x**2 - 9\n",
        "x0 = 1000; x1 = x0 - 1\n",
        "solucao, no_iteracao = secant(f, x0, x1, eps=1.0e-6)\n",
        "if no_iteracao > 0:# Solucao achada\n",
        "    print('Numero de fuções calculadas {:d}'.format(2+no_iteracao))\n",
        "    print('A solução é: {:f}'.format(solucao))\n",
        "else:\n",
        "    print('Solução não achada!')"
      ],
      "metadata": {
        "colab": {
          "base_uri": "https://localhost:8080/"
        },
        "id": "ggEmI9WGytJk",
        "outputId": "ef2c5753-a5be-46f4-d41b-98eb36e6de9b"
      },
      "execution_count": null,
      "outputs": [
        {
          "output_type": "stream",
          "name": "stdout",
          "text": [
            "Numero de fuções calculadas 19\n",
            "A solução é: 3.000000\n"
          ]
        }
      ]
    },
    {
      "cell_type": "code",
      "source": [
        "# Método de Newton – Raphson\n",
        "\n",
        "def f(x): return x**4 - 6.4*x**3 + 6.45*x**2 + 20.538*x - 31.752\n",
        "def df(x): return 4.0*x**3 - 19.2*x**2 + 12.9*x + 20.538\n",
        "def newtonRaphson(x,tol=1.0e-9):\n",
        "    for i in range(30):\n",
        "        dx = -f(x)/df(x)\n",
        "        x = x + dx\n",
        "        if abs(dx) < tol: return x,i\n",
        "    print('Muitas iterações\\n')\n",
        "raiz,numIter = newtonRaphson(2.0)\n",
        "print( 'Raiz =',raiz)\n",
        "print('Numero de iterações =' ,numIter)"
      ],
      "metadata": {
        "colab": {
          "base_uri": "https://localhost:8080/"
        },
        "id": "y5l5pc3rzrz4",
        "outputId": "2a5a1632-0d5d-4481-94e4-17350c17fe5d"
      },
      "execution_count": null,
      "outputs": [
        {
          "output_type": "stream",
          "name": "stdout",
          "text": [
            "Raiz = 2.0999999786199406\n",
            "Numero de iterações = 22\n"
          ]
        }
      ]
    }
  ]
}
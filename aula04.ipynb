{
  "nbformat": 4,
  "nbformat_minor": 0,
  "metadata": {
    "colab": {
      "provenance": [],
      "authorship_tag": "ABX9TyOaEQgxOLRK9HUJPKAHUqGk",
      "include_colab_link": true
    },
    "kernelspec": {
      "name": "python3",
      "display_name": "Python 3"
    },
    "language_info": {
      "name": "python"
    }
  },
  "cells": [
    {
      "cell_type": "markdown",
      "metadata": {
        "id": "view-in-github",
        "colab_type": "text"
      },
      "source": [
        "<a href=\"https://colab.research.google.com/github/yuri-weasley/modelagemMatematica/blob/main/aula04.ipynb\" target=\"_parent\"><img src=\"https://colab.research.google.com/assets/colab-badge.svg\" alt=\"Open In Colab\"/></a>"
      ]
    },
    {
      "cell_type": "code",
      "execution_count": 7,
      "metadata": {
        "colab": {
          "base_uri": "https://localhost:8080/"
        },
        "id": "t4Zxw3ijEB4l",
        "outputId": "e7395e57-5451-434c-e02a-da4afb83232e"
      },
      "outputs": [
        {
          "output_type": "stream",
          "name": "stdout",
          "text": [
            "0.0 1.0000\n",
            "0.2 1.4000\n",
            "0.4 1.9600\n",
            "0.6 2.7440\n",
            "0.8 3.8416\n",
            "1.0 5.3782\n"
          ]
        }
      ],
      "source": [
        "# Equações diferenciais ordinárias de 1ª ordem em Python (aula 04)\n",
        "\n",
        "# Método de Euler\n",
        "# De maneira simples, uma equação diferencial é aquela que contém as derivadas de uma ou mais variáveis dependentes em relação a uma ou mais variáveis independentes (MOURA, 2017).\n",
        "# Tais equações envolvendo derivadas podem assumir as mais variadas formas. Neste conteúdo, nos dedicaremos às técnicas de resolução de uma equação diferencial ordinária (EDO)\n",
        "# dita de primeira ordem\n",
        "\n",
        "from __future__ import division\n",
        "import numpy as np\n",
        "from numpy import linalg\n",
        "import matplotlib.pyplot as plt\n",
        "\n",
        "def f(t,u):\n",
        "    return 2*u\n",
        "\n",
        "#tamanho e num. de passos\n",
        "h = 0.2\n",
        "N = 6\n",
        "\n",
        "#cria vetor t e u\n",
        "t = np.empty(N)\n",
        "u = np.copy(t)\n",
        "\n",
        "#C.I.\n",
        "t[0] = 0\n",
        "u[0] = 1\n",
        "\n",
        "#iteracoes\n",
        "for i in np.arange(N-1):\n",
        "    t[i+1] = t[i] + h\n",
        "    u[i+1] = u[i] + h*f(t[i],u[i])\n",
        "\n",
        "#imprime\n",
        "for i,tt in enumerate(t):\n",
        "    print(\"%1.1f %1.4f\" % (t[i],u[i]))"
      ]
    },
    {
      "cell_type": "code",
      "source": [
        "# Método de Runge-Kutta\n",
        "\n",
        "# Apesar da simplicidade, o método de Euler apresenta grande limitação quanto à precisão de suas respostas, pois requer grande quantidade de intervalos para cálculo e resolução\n",
        "# de um problema de valor inicial.\n",
        "\n",
        "from __future__ import division\n",
        "import numpy as np\n",
        "from numpy import linalg\n",
        "import matplotlib.pyplot as plt\n",
        "\n",
        "# Programa em Python para implementar o método de Runge-Kutta\n",
        "# Definição da equação diferencial ordinária de primeira ordem\n",
        "def dydx(x, y):\n",
        "    return (2*y)\n",
        "\n",
        "# Encontra o valor de y, dado x, utilizando um intervalo h\n",
        "# Considera os valores iniciais como x0 e y0\n",
        "def rungeKutta(x0, y0, x, h):\n",
        "    # Contagem do número de iterações utilizando o tamanho do passo\n",
        "    # Representado pelo parâmetro h\n",
        "    n = (int)((x - x0)/h)\n",
        "    # Realização da iteração para um número predeterminado\n",
        "    y = y0\n",
        "    for i in range(1, n + 1):\n",
        "        # Aplicação das fórmulas de Runge-Kutta para encontrar o valor seguinte de y\n",
        "        k1 = h * dydx(x0, y)\n",
        "        k2 = h * dydx(x0 + 0.5 * h, y + 0.5 * k1)\n",
        "        k3 = h * dydx(x0 + 0.5 * h, y + 0.5 * k2)\n",
        "        k4 = h * dydx(x0 + h, y + k3)\n",
        "\n",
        "        # Atualização do valor seguinte de y\n",
        "        y = y + (1.0 / 6.0)*(k1 + 2 * k2 + 2 * k3 + k4)\n",
        "\n",
        "        # Atualização do valor seguinte de x\n",
        "        x0 = x0 + h\n",
        "    return y\n",
        "\n",
        "# Programa principal\n",
        "x0 = 0\n",
        "y = 1\n",
        "x = 1\n",
        "h = 0.2\n",
        "print (rungeKutta(x0, y, x, h))"
      ],
      "metadata": {
        "colab": {
          "base_uri": "https://localhost:8080/"
        },
        "id": "lN4EzMhyFgyO",
        "outputId": "e784acf0-8c97-47d3-ca6a-c7e322b44b89"
      },
      "execution_count": 10,
      "outputs": [
        {
          "output_type": "stream",
          "name": "stdout",
          "text": [
            "7.386793724160116\n"
          ]
        }
      ]
    }
  ]
}